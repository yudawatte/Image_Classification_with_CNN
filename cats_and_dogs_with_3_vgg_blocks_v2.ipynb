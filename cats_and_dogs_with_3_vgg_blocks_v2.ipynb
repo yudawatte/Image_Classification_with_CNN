{
  "cells": [
    {
      "cell_type": "markdown",
      "source": [
        "# V2: Build a CNN with three VGG Blocks, with Drop out regularization"
      ],
      "metadata": {
        "id": "-ne8KaA44g-0"
      }
    },
    {
      "cell_type": "markdown",
      "source": [
        "Import prerequisits"
      ],
      "metadata": {
        "id": "GCI2aBLL5JMt"
      }
    },
    {
      "cell_type": "code",
      "execution_count": 1,
      "metadata": {
        "id": "FJF3cCzhyYzO"
      },
      "outputs": [],
      "source": [
        "%matplotlib inline\n",
        "import matplotlib.pyplot as plt\n",
        "from tensorflow.keras.models import Sequential\n",
        "from tensorflow.keras.layers import Conv2D, MaxPooling2D, Flatten, Dense, Dropout\n",
        "from tensorflow.keras.optimizers import SGD\n",
        "from keras_preprocessing.image import ImageDataGenerator\n",
        "import os, sys"
      ]
    },
    {
      "cell_type": "markdown",
      "source": [
        "Mount Google Drive"
      ],
      "metadata": {
        "id": "l2N9p6Lv5nsS"
      }
    },
    {
      "cell_type": "code",
      "source": [
        "from google.colab import drive\n",
        "drive.mount('/content/drive')"
      ],
      "metadata": {
        "colab": {
          "base_uri": "https://localhost:8080/"
        },
        "id": "97YYtwZSgzxJ",
        "outputId": "51dbbe17-447f-40b0-9974-89ba08c48061"
      },
      "execution_count": 2,
      "outputs": [
        {
          "output_type": "stream",
          "name": "stdout",
          "text": [
            "Mounted at /content/drive\n"
          ]
        }
      ]
    },
    {
      "cell_type": "markdown",
      "source": [
        "Specify paths to train and test image sets"
      ],
      "metadata": {
        "id": "genhqtY05j4n"
      }
    },
    {
      "cell_type": "code",
      "execution_count": 3,
      "metadata": {
        "id": "R7NLopWCycUj"
      },
      "outputs": [],
      "source": [
        "train_set_path = '/content/drive/MyDrive/Colab Notebooks/cats_and_dogs/train'\n",
        "test_set_path = '/content/drive/MyDrive/Colab Notebooks/cats_and_dogs/test'"
      ]
    },
    {
      "cell_type": "markdown",
      "source": [
        "Following function will create a CNN with 3 VGG blocks"
      ],
      "metadata": {
        "id": "PGLiSiK86cWF"
      }
    },
    {
      "cell_type": "code",
      "execution_count": 1,
      "metadata": {
        "id": "yG3v-_MXy77x"
      },
      "outputs": [],
      "source": [
        "# define cnn model\n",
        "def define_model():\n",
        "\tmodel = Sequential()\n",
        "\tmodel.add(Conv2D(32, (3, 3), activation='relu', kernel_initializer='he_uniform', padding='same', input_shape=(200, 200, 3)))\n",
        "\tmodel.add(MaxPooling2D((2, 2)))\n",
        "\tmodel.add(Dropout(0.2))\n",
        "\tmodel.add(Conv2D(64, (3, 3), activation='relu', kernel_initializer='he_uniform', padding='same'))\n",
        "\tmodel.add(MaxPooling2D((2, 2)))\n",
        "\tmodel.add(Dropout(0.2))\n",
        "\tmodel.add(Conv2D(128, (3, 3), activation='relu', kernel_initializer='he_uniform', padding='same'))\n",
        "\tmodel.add(MaxPooling2D((2, 2)))\n",
        "\tmodel.add(Dropout(0.2))\n",
        "\tmodel.add(Flatten())\n",
        "\tmodel.add(Dense(128, activation='relu', kernel_initializer='he_uniform'))\n",
        "\tmodel.add(Dropout(0.5))\n",
        "\tmodel.add(Dense(1, activation='sigmoid'))\n",
        "\t# compile model\n",
        "\topt = SGD(lr=0.001, momentum=0.9)\n",
        "\tmodel.compile(optimizer=opt, loss='binary_crossentropy', metrics=['accuracy'])\n",
        "\treturn model"
      ]
    },
    {
      "cell_type": "markdown",
      "source": [
        "Function to evaluate Cross Entropy Loss and Classification Accuracy"
      ],
      "metadata": {
        "id": "Ahb7NN-V8dby"
      }
    },
    {
      "cell_type": "code",
      "execution_count": 5,
      "metadata": {
        "id": "LEOhg635zTx-"
      },
      "outputs": [],
      "source": [
        "# plot diagnostic learning curves\n",
        "def summarize_diagnostics(history):\n",
        "  # plot loss\n",
        "  plt.subplot(211)\n",
        "  plt.title('Cross Entropy Loss')\n",
        "  plt.plot(history.history['loss'], color='blue', label='train')\n",
        "  plt.plot(history.history['val_loss'], color='orange', label='test')\n",
        "  # plot accuracy\n",
        "  plt.subplot(212)\n",
        "  plt.title('Classification Accuracy')\n",
        "  plt.plot(history.history['accuracy'], color='blue', label='train')\n",
        "  plt.plot(history.history['val_accuracy'], color='orange', label='test')\n",
        "  # save plot to file\n",
        "  #filename = sys.argv[0].split('/')[-1]\n",
        "  #plt.savefig(filename + '_plot.png')\n",
        "  plt.show()\n",
        "  plt.close()"
      ]
    },
    {
      "cell_type": "markdown",
      "source": [
        "Image Data Generator with rescaling images"
      ],
      "metadata": {
        "id": "37k-YMUR8RRZ"
      }
    },
    {
      "cell_type": "code",
      "execution_count": 6,
      "metadata": {
        "colab": {
          "base_uri": "https://localhost:8080/"
        },
        "id": "Xv7lotRPzaHV",
        "outputId": "ae5bb8ac-2786-4926-d278-8f49e0fbe3e0"
      },
      "outputs": [
        {
          "output_type": "stream",
          "name": "stdout",
          "text": [
            "Found 18697 images belonging to 2 classes.\n",
            "Found 6301 images belonging to 2 classes.\n"
          ]
        }
      ],
      "source": [
        "# Data generator, same generator for train set and test set\n",
        "data_gen = ImageDataGenerator(rescale=1.0/255.0)\n",
        "\n",
        "train_gen = data_gen.flow_from_directory(train_set_path,\n",
        "                                        class_mode='binary',\n",
        "                                        batch_size=64,\n",
        "                                        target_size=(200, 200))\n",
        "\n",
        "test_gen = data_gen.flow_from_directory(test_set_path,\n",
        "                                        class_mode='binary',\n",
        "                                        batch_size=64,\n",
        "                                        target_size=(200, 200))"
      ]
    },
    {
      "cell_type": "markdown",
      "source": [
        "Train Model"
      ],
      "metadata": {
        "id": "WspNkJfi8wff"
      }
    },
    {
      "cell_type": "code",
      "execution_count": null,
      "metadata": {
        "colab": {
          "base_uri": "https://localhost:8080/"
        },
        "id": "b24CF1X8zeYj",
        "outputId": "5b56ab75-370c-4966-e3a5-c8774277e4e7"
      },
      "outputs": [
        {
          "output_type": "stream",
          "name": "stderr",
          "text": [
            "/usr/local/lib/python3.7/dist-packages/keras/optimizer_v2/gradient_descent.py:102: UserWarning: The `lr` argument is deprecated, use `learning_rate` instead.\n",
            "  super(SGD, self).__init__(name, **kwargs)\n"
          ]
        },
        {
          "output_type": "stream",
          "name": "stdout",
          "text": [
            "Epoch 1/100\n",
            "246/293 [========================>.....] - ETA: 35:55 - loss: 0.6889 - accuracy: 0.5844"
          ]
        },
        {
          "output_type": "stream",
          "name": "stderr",
          "text": [
            "/usr/local/lib/python3.7/dist-packages/PIL/TiffImagePlugin.py:770: UserWarning: Possibly corrupt EXIF data.  Expecting to read 32 bytes but only got 0. Skipping tag 270\n",
            "  \" Skipping tag %s\" % (size, len(data), tag)\n",
            "/usr/local/lib/python3.7/dist-packages/PIL/TiffImagePlugin.py:770: UserWarning: Possibly corrupt EXIF data.  Expecting to read 5 bytes but only got 0. Skipping tag 271\n",
            "  \" Skipping tag %s\" % (size, len(data), tag)\n",
            "/usr/local/lib/python3.7/dist-packages/PIL/TiffImagePlugin.py:770: UserWarning: Possibly corrupt EXIF data.  Expecting to read 8 bytes but only got 0. Skipping tag 272\n",
            "  \" Skipping tag %s\" % (size, len(data), tag)\n",
            "/usr/local/lib/python3.7/dist-packages/PIL/TiffImagePlugin.py:770: UserWarning: Possibly corrupt EXIF data.  Expecting to read 8 bytes but only got 0. Skipping tag 282\n",
            "  \" Skipping tag %s\" % (size, len(data), tag)\n",
            "/usr/local/lib/python3.7/dist-packages/PIL/TiffImagePlugin.py:770: UserWarning: Possibly corrupt EXIF data.  Expecting to read 8 bytes but only got 0. Skipping tag 283\n",
            "  \" Skipping tag %s\" % (size, len(data), tag)\n",
            "/usr/local/lib/python3.7/dist-packages/PIL/TiffImagePlugin.py:770: UserWarning: Possibly corrupt EXIF data.  Expecting to read 20 bytes but only got 0. Skipping tag 306\n",
            "  \" Skipping tag %s\" % (size, len(data), tag)\n",
            "/usr/local/lib/python3.7/dist-packages/PIL/TiffImagePlugin.py:770: UserWarning: Possibly corrupt EXIF data.  Expecting to read 48 bytes but only got 0. Skipping tag 532\n",
            "  \" Skipping tag %s\" % (size, len(data), tag)\n",
            "/usr/local/lib/python3.7/dist-packages/PIL/TiffImagePlugin.py:788: UserWarning: Corrupt EXIF data.  Expecting to read 2 bytes but only got 0. \n",
            "  warnings.warn(str(msg))\n"
          ]
        },
        {
          "output_type": "stream",
          "name": "stdout",
          "text": [
            "293/293 [==============================] - ETA: 0s - loss: 0.6814 - accuracy: 0.5913 "
          ]
        }
      ],
      "source": [
        "# Train a model\n",
        "model = define_model()\n",
        "\n",
        "monitor = EarlyStopping(monitor='val_loss', \n",
        "                        min_delta=1e-3, \n",
        "                        patience=5, \n",
        "                        verbose=1, \n",
        "                        mode='auto',\n",
        "                        restore_best_weights=True)\n",
        "\n",
        "history = model.fit(train_gen, \n",
        "                    steps_per_epoch=len(train_gen),\n",
        "                    validation_data=test_gen, \n",
        "                    validation_steps=len(test_gen), \n",
        "                    epochs=100, \n",
        "                    verbose=1,\n",
        "                    callbacks=[monitor])\n",
        "\n",
        "# Model accuracy on test set\n",
        "accuracy_score = model.evaluate_generator(test_gen, steps=len(test_gen), verbose=0)\n",
        "\n",
        "summarize_diagnostics(history)"
      ]
    },
    {
      "cell_type": "code",
      "execution_count": null,
      "metadata": {
        "id": "IggQdv37zqFu"
      },
      "outputs": [],
      "source": [
        ""
      ]
    }
  ],
  "metadata": {
    "accelerator": "GPU",
    "colab": {
      "name": "cats_and_dogs_with_3_vgg_blocks_v2.ipynb",
      "provenance": [],
      "collapsed_sections": []
    },
    "gpuClass": "standard",
    "kernelspec": {
      "display_name": "Python 3",
      "name": "python3"
    },
    "language_info": {
      "name": "python"
    }
  },
  "nbformat": 4,
  "nbformat_minor": 0
}