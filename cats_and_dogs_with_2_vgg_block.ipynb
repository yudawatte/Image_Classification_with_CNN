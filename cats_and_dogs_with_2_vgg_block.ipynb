{
 "cells": [
  {
   "cell_type": "markdown",
   "metadata": {},
   "source": [
    "# Build a CNN with a VGG block"
   ]
  },
  {
   "cell_type": "markdown",
   "metadata": {},
   "source": [
    "Import prerequesists"
   ]
  },
  {
   "cell_type": "code",
   "execution_count": null,
   "metadata": {
    "id": "FJF3cCzhyYzO"
   },
   "outputs": [],
   "source": [
    "%matplotlib inline\n",
    "import matplotlib.pyplot as plt\n",
    "from tensorflow.keras.models import Sequential\n",
    "from tensorflow.keras.layers import Conv2D, MaxPooling2D, Flatten, Dense\n",
    "from tensorflow.keras.optimizers import SGD\n",
    "from keras_preprocessing.image import ImageDataGenerator\n",
    "import os, sys"
   ]
  },
  {
   "cell_type": "markdown",
   "metadata": {},
   "source": [
    "Specify train and test image set paths"
   ]
  },
  {
   "cell_type": "code",
   "execution_count": null,
   "metadata": {
    "id": "R7NLopWCycUj"
   },
   "outputs": [],
   "source": [
    "train_set_path = '/content/drive/MyDrive/Colab Notebooks/cats_and_dogs/test'\n",
    "test_set_path = '/content/drive/MyDrive/Colab Notebooks/cats_and_dogs/test'"
   ]
  },
  {
   "cell_type": "markdown",
   "metadata": {},
   "source": [
    "Function to create a CNN with single VGG blacok"
   ]
  },
  {
   "cell_type": "code",
   "execution_count": null,
   "metadata": {
    "id": "yG3v-_MXy77x"
   },
   "outputs": [],
   "source": [
    "# define cnn model \n",
    "# Input shape = (200, 200)\n",
    "def define_model():\n",
    "  model = Sequential()\n",
    "  model.add(Conv2D(32, (3, 3), activation='relu', kernel_initializer='he_uniform', padding='same', input_shape=(200, 200, 3)))\n",
    "  model.add(MaxPooling2D((2, 2)))\n",
    "  model.add(Conv2D(64, (3, 3), activation='relu', kernel_initializer='he_uniform', padding='same'))\n",
    "  model.add(MaxPooling2D((2, 2)))\n",
    "  model.add(Flatten())\n",
    "  model.add(Dense(128, activation='relu', kernel_initializer='he_uniform'))\n",
    "  model.add(Dense(1, activation='sigmoid'))\n",
    "  # compile model\n",
    "  opt = SGD(lr=0.001, momentum=0.9)\n",
    "  model.compile(optimizer=opt, loss='binary_crossentropy', metrics=['accuracy'])\n",
    "  return model"
   ]
  },
  {
   "cell_type": "markdown",
   "metadata": {},
   "source": [
    "Function to evaluate Cross Entropy Loss and Classification Accuracy"
   ]
  },
  {
   "cell_type": "code",
   "execution_count": null,
   "metadata": {
    "id": "LEOhg635zTx-"
   },
   "outputs": [],
   "source": [
    "# plot diagnostic learning curves\n",
    "def summarize_diagnostics(history):\n",
    "    # plot loss\n",
    "    plt.subplot(211)\n",
    "    plt.title('Cross Entropy Loss')\n",
    "    plt.plot(history.history['loss'], color='blue', label='train')\n",
    "    plt.plot(history.history['val_loss'], color='orange', label='test')\n",
    "    # plot accuracy\n",
    "    plt.subplot(212)\n",
    "    plt.title('Classification Accuracy')\n",
    "    plt.plot(history.history['accuracy'], color='blue', label='train')\n",
    "    plt.plot(history.history['val_accuracy'], color='orange', label='test')\n",
    "    # save plot to file\n",
    "    #filename = sys.argv[0].split('/')[-1]\n",
    "    #plt.savefig(filename + '_plot.png')\n",
    "    plt.show()\n",
    "    plt.close()"
   ]
  },
  {
   "cell_type": "markdown",
   "metadata": {},
   "source": [
    "Image Data Generator with rescaling images"
   ]
  },
  {
   "cell_type": "code",
   "execution_count": null,
   "metadata": {
    "colab": {
     "base_uri": "https://localhost:8080/"
    },
    "id": "Xv7lotRPzaHV",
    "outputId": "fb3fe11d-c0c6-4bdc-b1ec-6d713d2a790d"
   },
   "outputs": [
    {
     "name": "stdout",
     "output_type": "stream",
     "text": [
      "Found 6301 images belonging to 2 classes.\n",
      "Found 6301 images belonging to 2 classes.\n"
     ]
    }
   ],
   "source": [
    "# Data generator, same generator for train set and test set\n",
    "data_gen = ImageDataGenerator(rescale=1.0/255.0)\n",
    "\n",
    "train_gen = data_gen.flow_from_directory(train_set_path,\n",
    "                                        class_mode='binary',\n",
    "                                        batch_size=64,\n",
    "                                        target_size=(200, 200))\n",
    "\n",
    "test_gen = data_gen.flow_from_directory(test_set_path,\n",
    "                                        class_mode='binary',\n",
    "                                        batch_size=64,\n",
    "                                        target_size=(200, 200))"
   ]
  },
  {
   "cell_type": "markdown",
   "metadata": {},
   "source": [
    "Train Model and evaluate"
   ]
  },
  {
   "cell_type": "code",
   "execution_count": null,
   "metadata": {
    "colab": {
     "background_save": true,
     "base_uri": "https://localhost:8080/"
    },
    "id": "b24CF1X8zeYj",
    "outputId": "bfcd7a4c-313a-4a5c-aeaf-aa3e6f157cd0",
    "scrolled": true
   },
   "outputs": [
    {
     "name": "stderr",
     "output_type": "stream",
     "text": [
      "/usr/local/lib/python3.7/dist-packages/keras/optimizer_v2/gradient_descent.py:102: UserWarning: The `lr` argument is deprecated, use `learning_rate` instead.\n",
      "  super(SGD, self).__init__(name, **kwargs)\n"
     ]
    },
    {
     "name": "stdout",
     "output_type": "stream",
     "text": [
      "Epoch 1/20\n",
      "99/99 [==============================] - 857s 9s/step - loss: 0.7308 - accuracy: 0.5482 - val_loss: 0.6823 - val_accuracy: 0.5391\n",
      "Epoch 2/20\n",
      "99/99 [==============================] - 516s 5s/step - loss: 0.6784 - accuracy: 0.5690 - val_loss: 0.6825 - val_accuracy: 0.5444\n",
      "Epoch 3/20\n",
      "99/99 [==============================] - 515s 5s/step - loss: 0.6698 - accuracy: 0.5809 - val_loss: 0.6651 - val_accuracy: 0.5805\n",
      "Epoch 4/20\n",
      "99/99 [==============================] - 516s 5s/step - loss: 0.6495 - accuracy: 0.6115 - val_loss: 0.6330 - val_accuracy: 0.6362\n",
      "Epoch 5/20\n",
      "99/99 [==============================] - 534s 5s/step - loss: 0.6367 - accuracy: 0.6231 - val_loss: 0.6205 - val_accuracy: 0.6486\n",
      "Epoch 6/20\n",
      "99/99 [==============================] - 510s 5s/step - loss: 0.6252 - accuracy: 0.6377 - val_loss: 0.6273 - val_accuracy: 0.6299\n",
      "Epoch 7/20\n",
      "99/99 [==============================] - 508s 5s/step - loss: 0.6139 - accuracy: 0.6493 - val_loss: 0.5954 - val_accuracy: 0.6789\n",
      "Epoch 8/20\n",
      "99/99 [==============================] - 512s 5s/step - loss: 0.6101 - accuracy: 0.6529 - val_loss: 0.5864 - val_accuracy: 0.6897\n",
      "Epoch 9/20\n",
      "99/99 [==============================] - 504s 5s/step - loss: 0.5824 - accuracy: 0.6883 - val_loss: 0.5591 - val_accuracy: 0.7139\n",
      "Epoch 10/20\n",
      "99/99 [==============================] - 510s 5s/step - loss: 0.5655 - accuracy: 0.7058 - val_loss: 0.5636 - val_accuracy: 0.6945\n",
      "Epoch 11/20\n",
      "99/99 [==============================] - 513s 5s/step - loss: 0.5519 - accuracy: 0.7191 - val_loss: 0.5443 - val_accuracy: 0.7140\n",
      "Epoch 12/20\n",
      "99/99 [==============================] - 514s 5s/step - loss: 0.5257 - accuracy: 0.7388 - val_loss: 0.4923 - val_accuracy: 0.7804\n",
      "Epoch 13/20\n",
      "99/99 [==============================] - 503s 5s/step - loss: 0.5266 - accuracy: 0.7389 - val_loss: 0.4759 - val_accuracy: 0.7938\n",
      "Epoch 14/20\n",
      "99/99 [==============================] - 502s 5s/step - loss: 0.4783 - accuracy: 0.7784 - val_loss: 0.5177 - val_accuracy: 0.7178\n",
      "Epoch 15/20\n",
      "99/99 [==============================] - 505s 5s/step - loss: 0.4614 - accuracy: 0.7872 - val_loss: 0.4139 - val_accuracy: 0.8303\n",
      "Epoch 16/20\n",
      "99/99 [==============================] - 504s 5s/step - loss: 0.4282 - accuracy: 0.8115 - val_loss: 0.4399 - val_accuracy: 0.7804\n",
      "Epoch 17/20\n",
      "99/99 [==============================] - 499s 5s/step - loss: 0.3929 - accuracy: 0.8302 - val_loss: 0.3550 - val_accuracy: 0.8603\n",
      "Epoch 18/20\n",
      "99/99 [==============================] - 503s 5s/step - loss: 0.3805 - accuracy: 0.8322 - val_loss: 0.4877 - val_accuracy: 0.7385\n",
      "Epoch 19/20\n",
      "99/99 [==============================] - 501s 5s/step - loss: 0.3510 - accuracy: 0.8562 - val_loss: 0.3172 - val_accuracy: 0.8748\n",
      "Epoch 20/20\n",
      "99/99 [==============================] - 503s 5s/step - loss: 0.3127 - accuracy: 0.8767 - val_loss: 0.2633 - val_accuracy: 0.9046\n"
     ]
    },
    {
     "data": {
      "image/png": "[encoded data removed]",
      "text/plain": [
       "<Figure size 432x288 with 2 Axes>"
      ]
     },
     "metadata": {},
     "output_type": "display_data"
    }
   ],
   "source": [
    "# Train a model\n",
    "model = define_model()\n",
    "\n",
    "history = model.fit(train_gen, \n",
    "                    steps_per_epoch=len(train_gen),\n",
    "                    validation_data=test_gen, \n",
    "                    validation_steps=len(test_gen), \n",
    "                    epochs=20, \n",
    "                    verbose=1)\n",
    "\n",
    "summarize_diagnostics(history)"
   ]
  },
  {
   "cell_type": "code",
   "execution_count": null,
   "metadata": {
    "id": "IggQdv37zqFu"
   },
   "outputs": [],
   "source": []
  }
 ],
 "metadata": {
  "accelerator": "GPU",
  "colab": {
   "name": "cats_and_dogs_with_2_vgg_block.ipynb",
   "provenance": []
  },
  "gpuClass": "standard",
  "kernelspec": {
   "display_name": "Python 3 (ipykernel)",
   "language": "python",
   "name": "python3"
  },
  "language_info": {
   "codemirror_mode": {
    "name": "ipython",
    "version": 3
   },
   "file_extension": ".py",
   "mimetype": "text/x-python",
   "name": "python",
   "nbconvert_exporter": "python",
   "pygments_lexer": "ipython3",
   "version": "3.9.12"
  }
 },
 "nbformat": 4,
 "nbformat_minor": 1
}
