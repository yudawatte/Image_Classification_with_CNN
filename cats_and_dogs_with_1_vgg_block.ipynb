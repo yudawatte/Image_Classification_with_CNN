{
 "cells": [
  {
   "cell_type": "markdown",
   "id": "50b5e69b",
   "metadata": {},
   "source": [
    "# Build a CNN with a VGG block"
   ]
  },
  {
   "cell_type": "markdown",
   "id": "dbdd5ddf",
   "metadata": {},
   "source": [
    "Import prerequesists"
   ]
  },
  {
   "cell_type": "code",
   "execution_count": 9,
   "id": "3f7d15fe",
   "metadata": {},
   "outputs": [],
   "source": [
    "%matplotlib inline\n",
    "import matplotlib.pyplot as plt\n",
    "from tensorflow.keras.models import Sequential\n",
    "from tensorflow.keras.layers import Conv2D, MaxPooling2D, Flatten, Dense\n",
    "from tensorflow.keras.optimizers import SGD\n",
    "from keras_preprocessing.image import ImageDataGenerator\n",
    "import os, sys"
   ]
  },
  {
   "cell_type": "markdown",
   "id": "782ae614",
   "metadata": {},
   "source": [
    "Specify train and test image set paths"
   ]
  },
  {
   "cell_type": "code",
   "execution_count": 2,
   "id": "a99210c8",
   "metadata": {},
   "outputs": [],
   "source": [
    "train_set_path = 'petImages/train/'\n",
    "test_set_path = 'petImages/test/'"
   ]
  },
  {
   "cell_type": "markdown",
   "id": "6826342a",
   "metadata": {},
   "source": [
    "Function to create a CNN with single VGG blacok"
   ]
  },
  {
   "cell_type": "code",
   "execution_count": 3,
   "id": "0eb80e46",
   "metadata": {},
   "outputs": [],
   "source": [
    "# define cnn model \n",
    "# Input shape = (200, 200)\n",
    "def define_model():\n",
    "    model = Sequential()\n",
    "    model.add(Conv2D(32, (3, 3), activation='relu', kernel_initializer='he_uniform', padding='same', input_shape=(200, 200, 3)))\n",
    "    model.add(MaxPooling2D((2, 2)))\n",
    "    model.add(Flatten())\n",
    "    model.add(Dense(128, activation='relu', kernel_initializer='he_uniform'))\n",
    "    model.add(Dense(1, activation='sigmoid'))\n",
    "    # compile model\n",
    "    opt = SGD(lr=0.001, momentum=0.9)\n",
    "    model.compile(optimizer=opt, loss='binary_crossentropy', metrics=['accuracy'])\n",
    "    return model"
   ]
  },
  {
   "cell_type": "markdown",
   "id": "638df309",
   "metadata": {},
   "source": [
    "Function to evaluate Cross Entropy Loss and Classification Accuracy"
   ]
  },
  {
   "cell_type": "code",
   "execution_count": 14,
   "id": "9f524e8a",
   "metadata": {},
   "outputs": [],
   "source": [
    "# plot diagnostic learning curves\n",
    "def summarize_diagnostics(history):\n",
    "    # plot loss\n",
    "    plt.subplot(211)\n",
    "    plt.title('Cross Entropy Loss')\n",
    "    plt.plot(history.history['loss'], color='blue', label='train')\n",
    "    plt.plot(history.history['val_loss'], color='orange', label='test')\n",
    "    # plot accuracy\n",
    "    plt.subplot(212)\n",
    "    plt.title('Classification Accuracy')\n",
    "    plt.plot(history.history['accuracy'], color='blue', label='train')\n",
    "    plt.plot(history.history['val_accuracy'], color='orange', label='test')\n",
    "    # save plot to file\n",
    "    #filename = sys.argv[0].split('/')[-1]\n",
    "    #plt.savefig(filename + '_plot.png')\n",
    "    plt.show()\n",
    "    plt.close()"
   ]
  },
  {
   "cell_type": "markdown",
   "id": "2f6e59af",
   "metadata": {},
   "source": [
    "Image Data Generator with rescaling images"
   ]
  },
  {
   "cell_type": "code",
   "execution_count": 5,
   "id": "60c41fca",
   "metadata": {},
   "outputs": [
    {
     "name": "stdout",
     "output_type": "stream",
     "text": [
      "Found 18697 images belonging to 2 classes.\n",
      "Found 6301 images belonging to 2 classes.\n"
     ]
    }
   ],
   "source": [
    "# Data generator, same generator for train set and test set\n",
    "data_gen = ImageDataGenerator(rescale=1.0/255.0)\n",
    "\n",
    "train_gen = data_gen.flow_from_directory(train_set_path,\n",
    "                                        class_mode='binary',\n",
    "                                        batch_size=64,\n",
    "                                        target_size=(200, 200))\n",
    "\n",
    "test_gen = data_gen.flow_from_directory(test_set_path,\n",
    "                                        class_mode='binary',\n",
    "                                        batch_size=64,\n",
    "                                        target_size=(200, 200))"
   ]
  },
  {
   "cell_type": "markdown",
   "id": "b925355e",
   "metadata": {},
   "source": [
    "Train Model and evaluate"
   ]
  },
  {
   "cell_type": "code",
   "execution_count": 6,
   "id": "80128994",
   "metadata": {
    "scrolled": true
   },
   "outputs": [
    {
     "name": "stderr",
     "output_type": "stream",
     "text": [
      "C:\\ProgramData\\Anaconda3\\lib\\site-packages\\keras\\optimizers\\optimizer_v2\\gradient_descent.py:108: UserWarning: The `lr` argument is deprecated, use `learning_rate` instead.\n",
      "  super(SGD, self).__init__(name, **kwargs)\n"
     ]
    },
    {
     "name": "stdout",
     "output_type": "stream",
     "text": [
      "Epoch 1/20\n",
      "136/293 [============>.................] - ETA: 2:31 - loss: 0.7564 - accuracy: 0.5594"
     ]
    },
    {
     "name": "stderr",
     "output_type": "stream",
     "text": [
      "C:\\ProgramData\\Anaconda3\\lib\\site-packages\\PIL\\TiffImagePlugin.py:822: UserWarning: Truncated File Read\n",
      "  warnings.warn(str(msg))\n"
     ]
    },
    {
     "name": "stdout",
     "output_type": "stream",
     "text": [
      "293/293 [==============================] - 320s 1s/step - loss: 0.7002 - accuracy: 0.5891 - val_loss: 0.6355 - val_accuracy: 0.6280\n",
      "Epoch 2/20\n",
      "293/293 [==============================] - 328s 1s/step - loss: 0.6414 - accuracy: 0.6239 - val_loss: 0.6348 - val_accuracy: 0.6307\n",
      "Epoch 3/20\n",
      "293/293 [==============================] - 343s 1s/step - loss: 0.6251 - accuracy: 0.6422 - val_loss: 0.6304 - val_accuracy: 0.6345\n",
      "Epoch 4/20\n",
      "293/293 [==============================] - 332s 1s/step - loss: 0.6200 - accuracy: 0.6473 - val_loss: 0.6147 - val_accuracy: 0.6607\n",
      "Epoch 5/20\n",
      "293/293 [==============================] - 336s 1s/step - loss: 0.6035 - accuracy: 0.6601 - val_loss: 0.6122 - val_accuracy: 0.6508\n",
      "Epoch 6/20\n",
      "293/293 [==============================] - 326s 1s/step - loss: 0.5988 - accuracy: 0.6729 - val_loss: 0.6001 - val_accuracy: 0.6723\n",
      "Epoch 7/20\n",
      "293/293 [==============================] - 324s 1s/step - loss: 0.5886 - accuracy: 0.6762 - val_loss: 0.6003 - val_accuracy: 0.6718\n",
      "Epoch 8/20\n",
      "293/293 [==============================] - 320s 1s/step - loss: 0.5829 - accuracy: 0.6858 - val_loss: 0.5770 - val_accuracy: 0.6881\n",
      "Epoch 9/20\n",
      "293/293 [==============================] - 320s 1s/step - loss: 0.5635 - accuracy: 0.7009 - val_loss: 0.5785 - val_accuracy: 0.6805\n",
      "Epoch 10/20\n",
      "293/293 [==============================] - 318s 1s/step - loss: 0.5403 - accuracy: 0.7234 - val_loss: 0.5607 - val_accuracy: 0.7113\n",
      "Epoch 11/20\n",
      "293/293 [==============================] - 321s 1s/step - loss: 0.5269 - accuracy: 0.7309 - val_loss: 0.5560 - val_accuracy: 0.7153\n",
      "Epoch 12/20\n",
      "293/293 [==============================] - 321s 1s/step - loss: 0.5016 - accuracy: 0.7542 - val_loss: 0.5522 - val_accuracy: 0.7196\n",
      "Epoch 13/20\n",
      "293/293 [==============================] - 319s 1s/step - loss: 0.4823 - accuracy: 0.7687 - val_loss: 0.5442 - val_accuracy: 0.7177\n",
      "Epoch 14/20\n",
      "293/293 [==============================] - 318s 1s/step - loss: 0.4520 - accuracy: 0.7890 - val_loss: 0.5378 - val_accuracy: 0.7273\n",
      "Epoch 15/20\n",
      "293/293 [==============================] - 321s 1s/step - loss: 0.4315 - accuracy: 0.8025 - val_loss: 0.5308 - val_accuracy: 0.7313\n",
      "Epoch 16/20\n",
      "293/293 [==============================] - 319s 1s/step - loss: 0.3949 - accuracy: 0.8259 - val_loss: 0.5252 - val_accuracy: 0.7388\n",
      "Epoch 17/20\n",
      "293/293 [==============================] - 318s 1s/step - loss: 0.3606 - accuracy: 0.8435 - val_loss: 0.5559 - val_accuracy: 0.7312\n",
      "Epoch 18/20\n",
      "293/293 [==============================] - 319s 1s/step - loss: 0.3471 - accuracy: 0.8524 - val_loss: 0.5410 - val_accuracy: 0.7359\n",
      "Epoch 19/20\n",
      "293/293 [==============================] - 322s 1s/step - loss: 0.2931 - accuracy: 0.8840 - val_loss: 0.5502 - val_accuracy: 0.7362\n",
      "Epoch 20/20\n",
      "293/293 [==============================] - 319s 1s/step - loss: 0.2705 - accuracy: 0.8961 - val_loss: 0.6004 - val_accuracy: 0.7253\n"
     ]
    },
    {
     "ename": "NameError",
     "evalue": "name 'pyplot' is not defined",
     "output_type": "error",
     "traceback": [
      "\u001b[1;31m---------------------------------------------------------------------------\u001b[0m",
      "\u001b[1;31mNameError\u001b[0m                                 Traceback (most recent call last)",
      "Input \u001b[1;32mIn [6]\u001b[0m, in \u001b[0;36m<cell line: 11>\u001b[1;34m()\u001b[0m\n\u001b[0;32m      2\u001b[0m model \u001b[38;5;241m=\u001b[39m define_model()\n\u001b[0;32m      4\u001b[0m history \u001b[38;5;241m=\u001b[39m model\u001b[38;5;241m.\u001b[39mfit(train_gen, \n\u001b[0;32m      5\u001b[0m                     steps_per_epoch\u001b[38;5;241m=\u001b[39m\u001b[38;5;28mlen\u001b[39m(train_gen),\n\u001b[0;32m      6\u001b[0m                     validation_data\u001b[38;5;241m=\u001b[39mtest_gen, \n\u001b[0;32m      7\u001b[0m                     validation_steps\u001b[38;5;241m=\u001b[39m\u001b[38;5;28mlen\u001b[39m(test_gen), \n\u001b[0;32m      8\u001b[0m                     epochs\u001b[38;5;241m=\u001b[39m\u001b[38;5;241m20\u001b[39m, \n\u001b[0;32m      9\u001b[0m                     verbose\u001b[38;5;241m=\u001b[39m\u001b[38;5;241m1\u001b[39m)\n\u001b[1;32m---> 11\u001b[0m \u001b[43msummarize_diagnostics\u001b[49m\u001b[43m(\u001b[49m\u001b[43mhistory\u001b[49m\u001b[43m)\u001b[49m\n",
      "Input \u001b[1;32mIn [4]\u001b[0m, in \u001b[0;36msummarize_diagnostics\u001b[1;34m(history)\u001b[0m\n\u001b[0;32m      2\u001b[0m \u001b[38;5;28;01mdef\u001b[39;00m \u001b[38;5;21msummarize_diagnostics\u001b[39m(history):\n\u001b[0;32m      3\u001b[0m     \u001b[38;5;66;03m# plot loss\u001b[39;00m\n\u001b[1;32m----> 4\u001b[0m     \u001b[43mpyplot\u001b[49m\u001b[38;5;241m.\u001b[39msubplot(\u001b[38;5;241m211\u001b[39m)\n\u001b[0;32m      5\u001b[0m     pyplot\u001b[38;5;241m.\u001b[39mtitle(\u001b[38;5;124m'\u001b[39m\u001b[38;5;124mCross Entropy Loss\u001b[39m\u001b[38;5;124m'\u001b[39m)\n\u001b[0;32m      6\u001b[0m     pyplot\u001b[38;5;241m.\u001b[39mplot(history\u001b[38;5;241m.\u001b[39mhistory[\u001b[38;5;124m'\u001b[39m\u001b[38;5;124mloss\u001b[39m\u001b[38;5;124m'\u001b[39m], color\u001b[38;5;241m=\u001b[39m\u001b[38;5;124m'\u001b[39m\u001b[38;5;124mblue\u001b[39m\u001b[38;5;124m'\u001b[39m, label\u001b[38;5;241m=\u001b[39m\u001b[38;5;124m'\u001b[39m\u001b[38;5;124mtrain\u001b[39m\u001b[38;5;124m'\u001b[39m)\n",
      "\u001b[1;31mNameError\u001b[0m: name 'pyplot' is not defined"
     ]
    }
   ],
   "source": [
    "# Train a model\n",
    "model = define_model()\n",
    "\n",
    "history = model.fit(train_gen, \n",
    "                    steps_per_epoch=len(train_gen),\n",
    "                    validation_data=test_gen, \n",
    "                    validation_steps=len(test_gen), \n",
    "                    epochs=20, \n",
    "                    verbose=1)\n",
    "\n"
   ]
  },
  {
   "cell_type": "code",
   "execution_count": 15,
   "id": "2364e5bd",
   "metadata": {},
   "outputs": [
    {
     "data": {
      "image/png": "[encoded data removed]",
      "text/plain": [
       "<Figure size 432x288 with 2 Axes>"
      ]
     },
     "metadata": {
      "needs_background": "light"
     },
     "output_type": "display_data"
    }
   ],
   "source": [
    "summarize_diagnostics(history)"
   ]
  },
  {
   "cell_type": "code",
   "execution_count": null,
   "id": "a72d523d",
   "metadata": {},
   "outputs": [],
   "source": []
  }
 ],
 "metadata": {
  "kernelspec": {
   "display_name": "Python 3 (ipykernel)",
   "language": "python",
   "name": "python3"
  },
  "language_info": {
   "codemirror_mode": {
    "name": "ipython",
    "version": 3
   },
   "file_extension": ".py",
   "mimetype": "text/x-python",
   "name": "python",
   "nbconvert_exporter": "python",
   "pygments_lexer": "ipython3",
   "version": "3.9.12"
  }
 },
 "nbformat": 4,
 "nbformat_minor": 5
}
